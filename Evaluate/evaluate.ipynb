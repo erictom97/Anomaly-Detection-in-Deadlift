{
 "cells": [
  {
   "cell_type": "code",
   "execution_count": 1,
   "metadata": {},
   "outputs": [],
   "source": [
    "import mediapipe as mp\n",
    "import cv2\n",
    "import numpy as np\n",
    "import os\n",
    "import pandas as pd\n",
    "# import matplotlib.pyplot as plt\n",
    "import argparse\n",
    "import tensorflow as tf\n",
    "import random\n",
    "from tensorflow.keras.preprocessing.image import ImageDataGenerator\n",
    "from PIL import Image\n",
    "import sys\n",
    "from sklearn.neighbors import KernelDensity\n",
    "import warnings\n",
    "from itertools import count\n",
    "import pickle\n",
    "warnings.filterwarnings(\"ignore\")"
   ]
  },
  {
   "cell_type": "code",
   "execution_count": 2,
   "metadata": {},
   "outputs": [
    {
     "name": "stderr",
     "output_type": "stream",
     "text": [
      "2023-08-23 21:21:42.094933: I metal_plugin/src/device/metal_device.cc:1154] Metal device set to: Apple M1\n",
      "2023-08-23 21:21:42.094980: I metal_plugin/src/device/metal_device.cc:296] systemMemory: 8.00 GB\n",
      "2023-08-23 21:21:42.094990: I metal_plugin/src/device/metal_device.cc:313] maxCacheSize: 2.67 GB\n",
      "2023-08-23 21:21:42.095144: I tensorflow/core/common_runtime/pluggable_device/pluggable_device_factory.cc:303] Could not identify NUMA node of platform GPU ID 0, defaulting to 0. Your kernel may not have been built with NUMA support.\n",
      "2023-08-23 21:21:42.095409: I tensorflow/core/common_runtime/pluggable_device/pluggable_device_factory.cc:269] Created TensorFlow device (/job:localhost/replica:0/task:0/device:GPU:0 with 0 MB memory) -> physical PluggableDevice (device: 0, name: METAL, pci bus id: <undefined>)\n"
     ]
    }
   ],
   "source": [
    "autoencoder_model = tf.keras.models.load_model('../Predict/autoencoder500epoch.keras')\n",
    "encoder_model = tf.keras.models.load_model('../Predict/encoder500epoch.keras')\n",
    "with open('../Deadlift Stages/deadlift_bot_rf.pkl', 'rb') as f:\n",
    "    model_rf = pickle.load(f)"
   ]
  },
  {
   "cell_type": "code",
   "execution_count": 3,
   "metadata": {},
   "outputs": [],
   "source": [
    "deadlift_path = \"Correct/\"\n",
    "anomaly_path = \"Anomaly/\""
   ]
  },
  {
   "cell_type": "code",
   "execution_count": 4,
   "metadata": {},
   "outputs": [],
   "source": [
    "#Now, input unknown images and sort as Good or Anomaly\n",
    "def check_anomaly(img_path,out_vector_shape,kde):\n",
    "    density_threshold = -240000 #Set this value based on the above exercise\n",
    "    reconstruction_error_threshold = 0.032# Set this value based on the above exercise\n",
    "    img  = Image.open(img_path)\n",
    "    img = np.array(img.resize((256,256)))\n",
    "    # plt.imshow(img)\n",
    "    img = img / 255.\n",
    "    img = img[np.newaxis, :,:,:]\n",
    "    encoded_img = encoder_model.predict([[img]]) \n",
    "    encoded_img = [np.reshape(img, (out_vector_shape)) for img in encoded_img] \n",
    "    density = kde.score_samples(encoded_img)[0] \n",
    "\n",
    "    reconstruction = autoencoder_model.predict([[img]])\n",
    "    reconstruction_error = autoencoder_model.evaluate([reconstruction],[[img]], batch_size = 1)[0]\n",
    "    # print('reconstruction_error: ', reconstruction_error)\n",
    "    # print('density: ', density)\n",
    "    if density < density_threshold or reconstruction_error > reconstruction_error_threshold:\n",
    "        return \"Anomaly\"\n",
    "        \n",
    "    else:\n",
    "        return \"Good Deadlift Form\""
   ]
  },
  {
   "cell_type": "code",
   "execution_count": 5,
   "metadata": {},
   "outputs": [
    {
     "name": "stdout",
     "output_type": "stream",
     "text": [
      "Found 199 images belonging to 1 classes.\n",
      "Found 50 images belonging to 1 classes.\n",
      "Found 45 images belonging to 1 classes.\n"
     ]
    }
   ],
   "source": [
    "# Image_folder = \"../Data/Orientation/Data/deadlift/\"\n",
    "train_folder = \"../Data/Orientation/Data/train\"\n",
    "valid_folder = \"../Data/Orientation/Data/valid\"\n",
    "anomaly_folder = \"../Data/Orientation/anomaly\"\n",
    "datagen = ImageDataGenerator(rescale=1./255)\n",
    "train_generator = datagen.flow_from_directory(\n",
    "    directory=train_folder,\n",
    "    batch_size=4,\n",
    "    class_mode=\"input\",\n",
    "    shuffle=True,\n",
    "    seed=42\n",
    ")\n",
    "\n",
    "valid_generator = datagen.flow_from_directory(\n",
    "    directory=valid_folder,\n",
    "    # target_size=(45,100),\n",
    "    batch_size=4,\n",
    "    class_mode=\"input\",\n",
    "    shuffle=True,\n",
    "    seed=42\n",
    ")\n",
    "\n",
    "anomaly_generator = datagen.flow_from_directory(\n",
    "    directory=anomaly_folder,\n",
    "    # target_size=(45,100),\n",
    "    batch_size=4,\n",
    "    class_mode=\"input\",\n",
    "    shuffle=True,\n",
    "    seed=42\n",
    ")"
   ]
  },
  {
   "cell_type": "code",
   "execution_count": 6,
   "metadata": {},
   "outputs": [
    {
     "name": "stderr",
     "output_type": "stream",
     "text": [
      "2023-08-23 21:24:58.536354: I tensorflow/core/grappler/optimizers/custom_graph_optimizer_registry.cc:114] Plugin optimizer for device_type GPU is enabled.\n"
     ]
    }
   ],
   "source": [
    "#Get encoded output of input images = Latent space\n",
    "encoded_images = encoder_model.predict_generator(train_generator)\n",
    "\n",
    "# Flatten the encoder output because KDE from sklearn takes 1D vectors as input\n",
    "encoder_output_shape = encoder_model.output_shape #Here, we have 16x16x16\n",
    "out_vector_shape = encoder_output_shape[1]*encoder_output_shape[2]*encoder_output_shape[3]\n",
    "\n",
    "encoded_images_vector = [np.reshape(img, (out_vector_shape)) for img in encoded_images]\n",
    "\n",
    "#Fit KDE to the image latent data\n",
    "kde = KernelDensity(kernel='gaussian', bandwidth=0.2).fit(encoded_images_vector)\n",
    "\n"
   ]
  },
  {
   "cell_type": "code",
   "execution_count": 8,
   "metadata": {},
   "outputs": [
    {
     "name": "stdout",
     "output_type": "stream",
     "text": [
      "1/1 [==============================] - 0s 17ms/step\n",
      "1/1 [==============================] - 0s 32ms/step\n",
      "1/1 [==============================] - 0s 26ms/step - loss: 0.0159 - mse: 0.0159\n",
      "1/1 [==============================] - 0s 12ms/step\n",
      "1/1 [==============================] - 0s 20ms/step\n",
      "1/1 [==============================] - 0s 26ms/step - loss: 0.0211 - mse: 0.0211\n",
      "1/1 [==============================] - 0s 13ms/step\n",
      "1/1 [==============================] - 0s 20ms/step\n",
      "1/1 [==============================] - 0s 26ms/step - loss: 0.0238 - mse: 0.0238\n",
      "1/1 [==============================] - 0s 13ms/step\n",
      "1/1 [==============================] - 0s 20ms/step\n",
      "1/1 [==============================] - 0s 26ms/step - loss: 0.0200 - mse: 0.0200\n",
      "1/1 [==============================] - 0s 11ms/step\n",
      "1/1 [==============================] - 0s 19ms/step\n",
      "1/1 [==============================] - 0s 24ms/step - loss: 0.0184 - mse: 0.0184\n",
      "1/1 [==============================] - 0s 12ms/step\n",
      "1/1 [==============================] - 0s 19ms/step\n",
      "1/1 [==============================] - 0s 26ms/step - loss: 0.0216 - mse: 0.0216\n",
      "1/1 [==============================] - 0s 12ms/step\n",
      "1/1 [==============================] - 0s 20ms/step\n",
      "1/1 [==============================] - 0s 26ms/step - loss: 0.0114 - mse: 0.0114\n",
      "1/1 [==============================] - 0s 11ms/step\n",
      "1/1 [==============================] - 0s 19ms/step\n",
      "1/1 [==============================] - 0s 25ms/step - loss: 0.0204 - mse: 0.0204\n",
      "1/1 [==============================] - 0s 12ms/step\n",
      "1/1 [==============================] - 0s 19ms/step\n",
      "1/1 [==============================] - 0s 24ms/step - loss: 0.0272 - mse: 0.0272\n",
      "1/1 [==============================] - 0s 12ms/step\n",
      "1/1 [==============================] - 0s 21ms/step\n",
      "1/1 [==============================] - 0s 28ms/step - loss: 0.0292 - mse: 0.0292\n",
      "1/1 [==============================] - 0s 13ms/step\n",
      "1/1 [==============================] - 0s 33ms/step\n",
      "1/1 [==============================] - 0s 29ms/step - loss: 0.0274 - mse: 0.0274\n",
      "1/1 [==============================] - 0s 11ms/step\n",
      "1/1 [==============================] - 0s 20ms/step\n",
      "1/1 [==============================] - 0s 26ms/step - loss: 0.0228 - mse: 0.0228\n",
      "1/1 [==============================] - 0s 11ms/step\n",
      "1/1 [==============================] - 0s 20ms/step\n",
      "1/1 [==============================] - 0s 25ms/step - loss: 0.0198 - mse: 0.0198\n",
      "1/1 [==============================] - 0s 12ms/step\n",
      "1/1 [==============================] - 0s 20ms/step\n",
      "1/1 [==============================] - 0s 25ms/step - loss: 0.0141 - mse: 0.0141\n",
      "1/1 [==============================] - 0s 11ms/step\n",
      "1/1 [==============================] - 0s 19ms/step\n",
      "1/1 [==============================] - 0s 25ms/step - loss: 0.0196 - mse: 0.0196\n",
      "1/1 [==============================] - 0s 11ms/step\n",
      "1/1 [==============================] - 0s 19ms/step\n",
      "1/1 [==============================] - 0s 28ms/step - loss: 0.0206 - mse: 0.0206\n",
      "1/1 [==============================] - 0s 11ms/step\n",
      "1/1 [==============================] - 0s 19ms/step\n",
      "1/1 [==============================] - 0s 25ms/step - loss: 0.0186 - mse: 0.0186\n",
      "1/1 [==============================] - 0s 12ms/step\n",
      "1/1 [==============================] - 0s 20ms/step\n",
      "1/1 [==============================] - 0s 24ms/step - loss: 0.0304 - mse: 0.0304\n",
      "1/1 [==============================] - 0s 12ms/step\n",
      "1/1 [==============================] - 0s 19ms/step\n",
      "1/1 [==============================] - 0s 24ms/step - loss: 0.0265 - mse: 0.0265\n",
      "1/1 [==============================] - 0s 12ms/step\n",
      "1/1 [==============================] - 0s 20ms/step\n",
      "1/1 [==============================] - 0s 24ms/step - loss: 0.0248 - mse: 0.0248\n",
      "1/1 [==============================] - 0s 12ms/step\n",
      "1/1 [==============================] - 0s 19ms/step\n",
      "1/1 [==============================] - 0s 24ms/step - loss: 0.0181 - mse: 0.0181\n",
      "1/1 [==============================] - 0s 23ms/step\n",
      "1/1 [==============================] - 0s 19ms/step\n",
      "1/1 [==============================] - 0s 25ms/step - loss: 0.0352 - mse: 0.0352\n",
      "1/1 [==============================] - 0s 12ms/step\n",
      "1/1 [==============================] - 0s 19ms/step\n",
      "1/1 [==============================] - 0s 24ms/step - loss: 0.0240 - mse: 0.0240\n",
      "1/1 [==============================] - 0s 12ms/step\n",
      "1/1 [==============================] - 0s 19ms/step\n",
      "1/1 [==============================] - 0s 24ms/step - loss: 0.0278 - mse: 0.0278\n",
      "1/1 [==============================] - 0s 12ms/step\n",
      "1/1 [==============================] - 0s 19ms/step\n",
      "1/1 [==============================] - 0s 24ms/step - loss: 0.0159 - mse: 0.0159\n",
      "1/1 [==============================] - 0s 12ms/step\n",
      "1/1 [==============================] - 0s 19ms/step\n",
      "1/1 [==============================] - 0s 25ms/step - loss: 0.0188 - mse: 0.0188\n",
      "1/1 [==============================] - 0s 11ms/step\n",
      "1/1 [==============================] - 0s 20ms/step\n",
      "1/1 [==============================] - 0s 26ms/step - loss: 0.0145 - mse: 0.0145\n",
      "1/1 [==============================] - 0s 12ms/step\n",
      "1/1 [==============================] - 0s 19ms/step\n",
      "1/1 [==============================] - 0s 24ms/step - loss: 0.0131 - mse: 0.0131\n",
      "1/1 [==============================] - 0s 12ms/step\n",
      "1/1 [==============================] - 0s 19ms/step\n",
      "1/1 [==============================] - 0s 23ms/step - loss: 0.0176 - mse: 0.0176\n"
     ]
    },
    {
     "data": {
      "text/plain": [
       "['Good Deadlift Form',\n",
       " 'Good Deadlift Form',\n",
       " 'Good Deadlift Form',\n",
       " 'Good Deadlift Form',\n",
       " 'Good Deadlift Form',\n",
       " 'Anomaly',\n",
       " 'Good Deadlift Form',\n",
       " 'Anomaly',\n",
       " 'Good Deadlift Form',\n",
       " 'Good Deadlift Form',\n",
       " 'Good Deadlift Form',\n",
       " 'Good Deadlift Form',\n",
       " 'Good Deadlift Form',\n",
       " 'Good Deadlift Form',\n",
       " 'Anomaly',\n",
       " 'Good Deadlift Form',\n",
       " 'Good Deadlift Form',\n",
       " 'Good Deadlift Form',\n",
       " 'Good Deadlift Form',\n",
       " 'Good Deadlift Form',\n",
       " 'Anomaly',\n",
       " 'Anomaly',\n",
       " 'Good Deadlift Form',\n",
       " 'Good Deadlift Form',\n",
       " 'Good Deadlift Form',\n",
       " 'Good Deadlift Form',\n",
       " 'Good Deadlift Form',\n",
       " 'Good Deadlift Form',\n",
       " 'Good Deadlift Form']"
      ]
     },
     "execution_count": 8,
     "metadata": {},
     "output_type": "execute_result"
    }
   ],
   "source": [
    "deadlifts = []\n",
    "file_dir = sorted(os.listdir(deadlift_path))\n",
    "for file in file_dir:\n",
    "    if file.endswith(\".png\"):\n",
    "        # print(file)\n",
    "        deadlifts.append(check_anomaly(os.path.join(deadlift_path,file),out_vector_shape,kde))\n",
    "deadlifts"
   ]
  },
  {
   "cell_type": "code",
   "execution_count": 11,
   "metadata": {},
   "outputs": [
    {
     "name": "stdout",
     "output_type": "stream",
     "text": [
      "1/1 [==============================] - 0s 15ms/step\n",
      "1/1 [==============================] - 0s 21ms/step\n",
      "1/1 [==============================] - 0s 29ms/step - loss: 0.0204 - mse: 0.0204\n",
      "1/1 [==============================] - 0s 15ms/step\n",
      "1/1 [==============================] - 0s 20ms/step\n",
      "1/1 [==============================] - 0s 37ms/step - loss: 0.0210 - mse: 0.0210\n",
      "1/1 [==============================] - 0s 11ms/step\n",
      "1/1 [==============================] - 0s 21ms/step\n",
      "1/1 [==============================] - 0s 25ms/step - loss: 0.0227 - mse: 0.0227\n",
      "1/1 [==============================] - 0s 11ms/step\n",
      "1/1 [==============================] - 0s 19ms/step\n",
      "1/1 [==============================] - 0s 25ms/step - loss: 0.0181 - mse: 0.0181\n",
      "1/1 [==============================] - 0s 11ms/step\n",
      "1/1 [==============================] - 0s 23ms/step\n",
      "1/1 [==============================] - 0s 25ms/step - loss: 0.0284 - mse: 0.0284\n",
      "1/1 [==============================] - 0s 12ms/step\n",
      "1/1 [==============================] - 0s 20ms/step\n",
      "1/1 [==============================] - 0s 25ms/step - loss: 0.0346 - mse: 0.0346\n",
      "1/1 [==============================] - 0s 11ms/step\n",
      "1/1 [==============================] - 0s 21ms/step\n",
      "1/1 [==============================] - 0s 26ms/step - loss: 0.0255 - mse: 0.0255\n",
      "1/1 [==============================] - 0s 11ms/step\n",
      "1/1 [==============================] - 0s 20ms/step\n",
      "1/1 [==============================] - 0s 25ms/step - loss: 0.0239 - mse: 0.0239\n",
      "1/1 [==============================] - 0s 11ms/step\n",
      "1/1 [==============================] - 0s 20ms/step\n",
      "1/1 [==============================] - 0s 26ms/step - loss: 0.0256 - mse: 0.0256\n",
      "1/1 [==============================] - 0s 11ms/step\n",
      "1/1 [==============================] - 0s 22ms/step\n",
      "1/1 [==============================] - 0s 25ms/step - loss: 0.0294 - mse: 0.0294\n",
      "1/1 [==============================] - 0s 12ms/step\n",
      "1/1 [==============================] - 0s 20ms/step\n",
      "1/1 [==============================] - 0s 24ms/step - loss: 0.0273 - mse: 0.0273\n",
      "1/1 [==============================] - 0s 11ms/step\n",
      "1/1 [==============================] - 0s 18ms/step\n",
      "1/1 [==============================] - 0s 24ms/step - loss: 0.0188 - mse: 0.0188\n",
      "1/1 [==============================] - 0s 11ms/step\n",
      "1/1 [==============================] - 0s 19ms/step\n",
      "1/1 [==============================] - 0s 25ms/step - loss: 0.0304 - mse: 0.0304\n",
      "1/1 [==============================] - 0s 12ms/step\n",
      "1/1 [==============================] - 0s 19ms/step\n",
      "1/1 [==============================] - 0s 24ms/step - loss: 0.0209 - mse: 0.0209\n",
      "1/1 [==============================] - 0s 12ms/step\n",
      "1/1 [==============================] - 0s 19ms/step\n",
      "1/1 [==============================] - 0s 38ms/step - loss: 0.0211 - mse: 0.0211\n",
      "1/1 [==============================] - 0s 11ms/step\n",
      "1/1 [==============================] - 0s 19ms/step\n",
      "1/1 [==============================] - 0s 25ms/step - loss: 0.0284 - mse: 0.0284\n",
      "1/1 [==============================] - 0s 12ms/step\n",
      "1/1 [==============================] - 0s 19ms/step\n",
      "1/1 [==============================] - 0s 24ms/step - loss: 0.0218 - mse: 0.0218\n",
      "1/1 [==============================] - 0s 12ms/step\n",
      "1/1 [==============================] - 0s 19ms/step\n",
      "1/1 [==============================] - 0s 24ms/step - loss: 0.0201 - mse: 0.0201\n",
      "1/1 [==============================] - 0s 11ms/step\n",
      "1/1 [==============================] - 0s 20ms/step\n",
      "1/1 [==============================] - 0s 28ms/step - loss: 0.0286 - mse: 0.0286\n",
      "1/1 [==============================] - 0s 13ms/step\n",
      "1/1 [==============================] - 0s 19ms/step\n",
      "1/1 [==============================] - 0s 24ms/step - loss: 0.0252 - mse: 0.0252\n",
      "1/1 [==============================] - 0s 12ms/step\n",
      "1/1 [==============================] - 0s 19ms/step\n",
      "1/1 [==============================] - 0s 25ms/step - loss: 0.0150 - mse: 0.0150\n"
     ]
    },
    {
     "data": {
      "text/plain": [
       "['Anomaly',\n",
       " 'Anomaly',\n",
       " 'Anomaly',\n",
       " 'Anomaly',\n",
       " 'Anomaly',\n",
       " 'Anomaly',\n",
       " 'Anomaly',\n",
       " 'Anomaly',\n",
       " 'Anomaly',\n",
       " 'Anomaly',\n",
       " 'Anomaly',\n",
       " 'Anomaly',\n",
       " 'Anomaly',\n",
       " 'Anomaly',\n",
       " 'Anomaly',\n",
       " 'Anomaly',\n",
       " 'Anomaly',\n",
       " 'Anomaly',\n",
       " 'Anomaly',\n",
       " 'Anomaly',\n",
       " 'Good Deadlift Form']"
      ]
     },
     "execution_count": 11,
     "metadata": {},
     "output_type": "execute_result"
    }
   ],
   "source": [
    "anomalies = []\n",
    "file_dir = sorted(os.listdir(anomaly_path))\n",
    "for file in file_dir:\n",
    "    if file.endswith(\".png\"):\n",
    "        # print(file)\n",
    "        anomalies.append(check_anomaly(os.path.join(anomaly_path,file),out_vector_shape,kde))\n",
    "anomalies"
   ]
  },
  {
   "cell_type": "code",
   "execution_count": 14,
   "metadata": {},
   "outputs": [
    {
     "data": {
      "image/png": "[encoded data removed]",
      "text/plain": [
       "<Figure size 1000x700 with 2 Axes>"
      ]
     },
     "metadata": {},
     "output_type": "display_data"
    }
   ],
   "source": [
    "#plot confusion matrix\n",
    "from sklearn.metrics import confusion_matrix\n",
    "import seaborn as sns\n",
    "import matplotlib.pyplot as plt\n",
    "import pandas as pd\n",
    "\n",
    "y_true = ['Good Deadlift Form']*len(deadlifts) + ['Anomaly']*len(anomalies)\n",
    "y_pred = deadlifts + anomalies\n",
    "\n",
    "cm = confusion_matrix(y_true, y_pred, labels=['Good Deadlift Form', 'Anomaly'])\n",
    "df_cm = pd.DataFrame(cm, index = ['Good Deadlift Form', 'Anomaly'],\n",
    "                    columns = ['Good Deadlift Form', 'Anomaly'])\n",
    "plt.figure(figsize = (10,7))\n",
    "sns.heatmap(df_cm, annot=True, cmap='Blues', fmt='g')\n",
    "plt.xlabel(\"Predicted\")\n",
    "plt.ylabel(\"Actual\")\n",
    "plt.show()"
   ]
  },
  {
   "cell_type": "code",
   "execution_count": 15,
   "metadata": {},
   "outputs": [
    {
     "name": "stdout",
     "output_type": "stream",
     "text": [
      "                    precision    recall  f1-score   support\n",
      "\n",
      "Good Deadlift Form       0.96      0.83      0.89        29\n",
      "           Anomaly       0.80      0.95      0.87        21\n",
      "\n",
      "          accuracy                           0.88        50\n",
      "         macro avg       0.88      0.89      0.88        50\n",
      "      weighted avg       0.89      0.88      0.88        50\n",
      "\n"
     ]
    }
   ],
   "source": [
    "# classification report\n",
    "from sklearn.metrics import classification_report\n",
    "print(classification_report(y_true, y_pred, labels=['Good Deadlift Form', 'Anomaly']))\n"
   ]
  },
  {
   "cell_type": "code",
   "execution_count": null,
   "metadata": {},
   "outputs": [],
   "source": []
  }
 ],
 "metadata": {
  "kernelspec": {
   "display_name": "Dissertation",
   "language": "python",
   "name": "python3"
  },
  "language_info": {
   "codemirror_mode": {
    "name": "ipython",
    "version": 3
   },
   "file_extension": ".py",
   "mimetype": "text/x-python",
   "name": "python",
   "nbconvert_exporter": "python",
   "pygments_lexer": "ipython3",
   "version": "3.11.4"
  },
  "orig_nbformat": 4
 },
 "nbformat": 4,
 "nbformat_minor": 2
}
