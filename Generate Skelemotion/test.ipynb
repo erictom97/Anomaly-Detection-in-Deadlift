{
 "cells": [
  {
   "cell_type": "code",
   "execution_count": 1,
   "metadata": {},
   "outputs": [],
   "source": [
    "import sys\n",
    "sys.path.append('skeleton_images/')\n",
    "from skeleton_images import GenerateSkeletonImages\n",
    "import argparse"
   ]
  },
  {
   "cell_type": "code",
   "execution_count": null,
   "metadata": {},
   "outputs": [],
   "source": [
    "def get_arguments(parser: argparse.ArgumentParser) -> argparse.Namespace:\n",
    "    parser.add_argument('--data_path', type=str, help='directory containing the skeleton data')\n",
    "    parser.add_argument('--img_type', type=int, choices=[1, 2, 3], help='Image type to compute'\n",
    "                                                                   '1 - CaetanoMagnitude (SkeleMotion - AVSS2019)'\n",
    "                                                                   '2 - CaetanoOrientation (SkeleMotion - AVSS2019)'\n",
    "                                                                   '3 - CaetanoTSRJI (TSRJI - SIBGRAPI2019)', default=1)\n",
    "    parser.add_argument('--temp_dist', nargs='+', type=int, help='Temporal distance between frames', default=1)\n",
    "    parser.add_argument('--path_to_save', type=str, help='directory to save the skeleton images')\n",
    "    args = parser.parse_args()\n",
    "    print(args)\n",
    "    return args"
   ]
  },
  {
   "cell_type": "code",
   "execution_count": null,
   "metadata": {},
   "outputs": [],
   "source": [
    "def test()"
   ]
  },
  {
   "cell_type": "code",
   "execution_count": 2,
   "metadata": {},
   "outputs": [
    {
     "data": {
      "text/plain": [
       "_StoreAction(option_strings=['--path_to_save'], dest='path_to_save', nargs=None, const=None, default=None, type=<class 'str'>, choices=None, required=False, help='directory to save the skeleton images', metavar=None)"
      ]
     },
     "execution_count": 2,
     "metadata": {},
     "output_type": "execute_result"
    }
   ],
   "source": [
    "save_path = \"/Users/erictommathews/Documents/Eric/Msc Artificial Intelligence - Stirling/Dissertation/Data/Compressed/Test/deadlift3\"\n",
    "parser = argparse.ArgumentParser()\n",
    "# arguements = [f'--data_path {save_path}',f'--img_type {1}',f'--temp_dist {10}',f'--path_to_save {save_path}']\n",
    "parser.add_argument('--data_path', type=str, help='directory containing the skeleton data')\n",
    "parser.add_argument('--img_type', type=int, choices=[1, 2, 3], help='Image type to compute'\n",
    "                                                                '1 - CaetanoMagnitude (SkeleMotion - AVSS2019)'\n",
    "                                                                '2 - CaetanoOrientation (SkeleMotion - AVSS2019)'\n",
    "                                                                '3 - CaetanoTSRJI (TSRJI - SIBGRAPI2019)', default=1)\n",
    "parser.add_argument('--temp_dist', nargs='+', type=int, help='Temporal distance between frames', default=1)\n",
    "parser.add_argument('--path_to_save', type=str, help='directory to save the skeleton images')"
   ]
  },
  {
   "cell_type": "code",
   "execution_count": 5,
   "metadata": {},
   "outputs": [
    {
     "data": {
      "text/plain": [
       "Namespace(data_path='data', img_type=1, temp_dist=[1], path_to_save='data')"
      ]
     },
     "execution_count": 5,
     "metadata": {},
     "output_type": "execute_result"
    }
   ],
   "source": [
    "parser.parse_args([\"--data_path\", \"data\", \"--img_type\", \"1\", \"--temp_dist\", \"1\", \"--path_to_save\", \"data\"])"
   ]
  },
  {
   "cell_type": "code",
   "execution_count": 8,
   "metadata": {},
   "outputs": [
    {
     "data": {
      "text/plain": [
       "ArgumentParser(prog='ipykernel_launcher.py', usage=None, description=None, formatter_class=<class 'argparse.HelpFormatter'>, conflict_handler='error', add_help=True)"
      ]
     },
     "execution_count": 8,
     "metadata": {},
     "output_type": "execute_result"
    }
   ],
   "source": [
    "parser"
   ]
  },
  {
   "cell_type": "code",
   "execution_count": 15,
   "metadata": {},
   "outputs": [
    {
     "ename": "TypeError",
     "evalue": "'module' object is not callable",
     "output_type": "error",
     "traceback": [
      "\u001b[0;31m---------------------------------------------------------------------------\u001b[0m",
      "\u001b[0;31mTypeError\u001b[0m                                 Traceback (most recent call last)",
      "Cell \u001b[0;32mIn[15], line 1\u001b[0m\n\u001b[0;32m----> 1\u001b[0m GenerateSkeletonImages(\u001b[39mf\u001b[39;49m\u001b[39m\"\u001b[39;49m\u001b[39m--data_path \u001b[39;49m\u001b[39m{\u001b[39;49;00msave_path\u001b[39m}\u001b[39;49;00m\u001b[39m --img_type 1 --temp_dist 10 --path_to_save \u001b[39;49m\u001b[39m{\u001b[39;49;00msave_path\u001b[39m}\u001b[39;49;00m\u001b[39m\"\u001b[39;49m)\n",
      "\u001b[0;31mTypeError\u001b[0m: 'module' object is not callable"
     ]
    }
   ],
   "source": [
    "GenerateSkeletonImages.main(f\"--data_path {save_path} --img_type 1 --temp_dist 10 --path_to_save {save_path}\")"
   ]
  },
  {
   "cell_type": "code",
   "execution_count": 17,
   "metadata": {},
   "outputs": [
    {
     "name": "stdout",
     "output_type": "stream",
     "text": [
      "Namespace(data_path='/Users/erictommathews/Documents/Eric/Msc Artificial Intelligence - Stirling/Dissertation/Data/Compressed/Test/deadlift3', img_type=1, temp_dist=[10], path_to_save='/Users/erictommathews/Documents/Eric/Msc Artificial Intelligence - Stirling/Dissertation/Data/Compressed/Test/deadlift3')\n",
      "OK\t/Users/erictommathews/Documents/Eric/Msc Artificial Intelligence - Stirling/Dissertation/Data/Compressed/Test/deadlift3/rep_3.skeleton\t[10]\n",
      "OK\t/Users/erictommathews/Documents/Eric/Msc Artificial Intelligence - Stirling/Dissertation/Data/Compressed/Test/deadlift3/rep_1.skeleton\t[10]\n",
      "OK\t/Users/erictommathews/Documents/Eric/Msc Artificial Intelligence - Stirling/Dissertation/Data/Compressed/Test/deadlift3/rep_4.skeleton\t[10]\n",
      "OK\t/Users/erictommathews/Documents/Eric/Msc Artificial Intelligence - Stirling/Dissertation/Data/Compressed/Test/deadlift3/rep_0.skeleton\t[10]\n",
      "OK\t/Users/erictommathews/Documents/Eric/Msc Artificial Intelligence - Stirling/Dissertation/Data/Compressed/Test/deadlift3/rep_2.skeleton\t[10]\n",
      "End\n"
     ]
    },
    {
     "data": {
      "text/plain": [
       "0"
      ]
     },
     "execution_count": 17,
     "metadata": {},
     "output_type": "execute_result"
    }
   ],
   "source": [
    "import os\n",
    "os.system(f'python skeleton_images/GenerateSkeletonImages.py --data_path \"{save_path}\" --img_type 1 --temp_dist 10 --path_to_save \"{save_path}\"')"
   ]
  },
  {
   "cell_type": "code",
   "execution_count": 22,
   "metadata": {},
   "outputs": [],
   "source": [
    "import os\n",
    "import numpy as np\n",
    "import cv2\n",
    "for file in os.listdir(save_path):\n",
    "    if file.endswith(\".npz\"):\n",
    "        data = np.load(os.path.join(save_path, file))\n",
    "        lst = data.files\n",
    "        for item in lst:\n",
    "            data = (data[item]* 255).astype(np.uint8)\n",
    "            image = cv2.applyColorMap(data,cv2.COLORMAP_HSV)\n",
    "            cv2.imwrite(os.path.join(save_path, os.path.split(save_path)[1]+'_'+file.split('.')[0]+'.png'), image)"
   ]
  },
  {
   "cell_type": "code",
   "execution_count": 20,
   "metadata": {},
   "outputs": [
    {
     "data": {
      "text/plain": [
       "'deadlift3'"
      ]
     },
     "execution_count": 20,
     "metadata": {},
     "output_type": "execute_result"
    }
   ],
   "source": [
    "os.path.split(save_path)[1]"
   ]
  },
  {
   "cell_type": "code",
   "execution_count": null,
   "metadata": {},
   "outputs": [],
   "source": []
  }
 ],
 "metadata": {
  "kernelspec": {
   "display_name": "pytorch",
   "language": "python",
   "name": "python3"
  },
  "language_info": {
   "codemirror_mode": {
    "name": "ipython",
    "version": 3
   },
   "file_extension": ".py",
   "mimetype": "text/x-python",
   "name": "python",
   "nbconvert_exporter": "python",
   "pygments_lexer": "ipython3",
   "version": "3.9.16"
  },
  "orig_nbformat": 4
 },
 "nbformat": 4,
 "nbformat_minor": 2
}
